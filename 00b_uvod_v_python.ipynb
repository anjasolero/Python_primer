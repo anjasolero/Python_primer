{
 "cells": [
  {
   "cell_type": "markdown",
   "metadata": {},
   "source": [
    "# Namespace\n",
    "* Sistem za izogibanje dvoumnim poimenovanjem spremenljivk.\n",
    "* Poleg globalnega ima svoj namespace tudi vsaka funkcija, razred (class) in modul.\n",
    "* Do globalnega namespace lahko dostopam v vseh ostalih namespace-ih.\n",
    "* Lokalni namespace ima prednost pred globalnim.\n",
    "* Če hočemo dostopati do spremenljivke v globalnem namespace-u moramo uporabiti ukaz `global`.\n",
    "* Če hočemo dostopati do spremenljivke v zunanjem namespace-u moramo uporabiti ukaz `nonlocal`."
   ]
  },
  {
   "cell_type": "code",
   "execution_count": null,
   "metadata": {},
   "outputs": [],
   "source": [
    "# Globalni namespace\n",
    "text = \"global text\"\n",
    "\n",
    "def f():\n",
    "    # V lokalnem namespace-u funkcije f lahko dostopamo \n",
    "    # do spremenljivk definiranih v globalnem namespace-u\n",
    "    print(\"Spremenljivka text znotraj funkcije f:\", text)\n",
    "\n",
    "f()"
   ]
  },
  {
   "cell_type": "code",
   "execution_count": null,
   "metadata": {},
   "outputs": [],
   "source": [
    "# Globalni namespace\n",
    "text = \"global text\"\n",
    "\n",
    "def f2():\n",
    "    text = \"f2 local text\"\n",
    "    # Lokalni namespace ima prednost pred globalnim\n",
    "    print(\"Spremenljivka text znotraj funkcije f2:\", text)\n",
    "    \n",
    "f2()\n",
    "# Spremenljivka text v globalnem namespace-u se ne spremeni\n",
    "print(\"Spremenljivka text v globalnem namespace-u:\", text)"
   ]
  },
  {
   "cell_type": "code",
   "execution_count": null,
   "metadata": {},
   "outputs": [],
   "source": [
    "# Globalni namespace\n",
    "text = \"global text\"\n",
    "\n",
    "def f3():\n",
    "    # dostopanje do globalne spremenljivke\n",
    "    global text\n",
    "    text = \"f2 local text\"\n",
    "    # Lokalni namespace ima prednost pred globalnim\n",
    "    print(\"Spremenljivka text znotraj funkcije f2:\", text)\n",
    "    \n",
    "f3()\n",
    "# Funkcija f3 spremeni spremenljivko text v globalnem namespace-u\n",
    "print(\"Spremenljivka text v globalnem namespace-u:\", text)"
   ]
  },
  {
   "cell_type": "code",
   "execution_count": null,
   "metadata": {},
   "outputs": [],
   "source": [
    "# Globalni namespace\n",
    "text = \"global text\"\n",
    "\n",
    "def f4():\n",
    "    text = \"f4 text\"\n",
    "    \n",
    "    def f():\n",
    "        nonlocal text\n",
    "        # Zdaj lahko spreminjamo spremenljivko definirano v f4\n",
    "        text = \"f modified text\"\n",
    "    \n",
    "    f()\n",
    "    print(text)\n",
    "\n",
    "f4()\n",
    "print(text)"
   ]
  },
  {
   "cell_type": "markdown",
   "metadata": {},
   "source": [
    "# Class\n",
    "* Lahko vsebuje podatke (spremenljivke) in funkcije.\n",
    "* Z metodo `__init__` določimo začetno stanje."
   ]
  },
  {
   "cell_type": "code",
   "execution_count": null,
   "metadata": {},
   "outputs": [],
   "source": [
    "# Definirajte class z eno spremenljivko in eno funkcijo\n",
    "\n",
    "# Naredite en objekt svojega class-a\n",
    "\n",
    "# izpišite njegovo spremenljivko in\n",
    "\n",
    "# pokličite njegovo funkcijo\n"
   ]
  },
  {
   "cell_type": "code",
   "execution_count": null,
   "metadata": {},
   "outputs": [],
   "source": [
    "# Definirajte class z metodo __init__ v kateri določite vrednost spremenljivki class-a\n"
   ]
  },
  {
   "cell_type": "markdown",
   "metadata": {},
   "source": [
    "# Moduli\n",
    "* Modul vključimo z ukazom `import`\n",
    "* Lahko vključimo samo določeno funkcionalnost z ukazom `from modul import funkcionalnost`"
   ]
  },
  {
   "cell_type": "code",
   "execution_count": null,
   "metadata": {},
   "outputs": [],
   "source": [
    "# Uvozite modul os in uporabite funkcijo listdir, da izpišete vsebino trenutne mape\n"
   ]
  },
  {
   "cell_type": "code",
   "execution_count": null,
   "metadata": {},
   "outputs": [],
   "source": [
    "# Iz modula sys uvozite spremenljivko version in jo izpišite\n"
   ]
  },
  {
   "cell_type": "markdown",
   "metadata": {},
   "source": [
    "# Knjižnica NumPy\n",
    "* Vsebuje:\n",
    "    * zelo uporabno podatkovno stukturo `array` za preprosto delo z več dimenzionalnimi podatki,\n",
    "    * funkcije za preprosto dostopanje do podatkov in njihovo preoblikovanje\n",
    "    * funkcije za linearno algebro, Fourierov transform in generiranje naključnih števil\n",
    "    * orodja za integracijo s C++ in Fortran kodo"
   ]
  },
  {
   "cell_type": "markdown",
   "metadata": {},
   "source": [
    "# Podatkovna struktura `array`\n",
    "* Primerna za hrambo N dimenzionalnih številskih podatkov\n",
    "* Podatki so lahko cela števila ali števila s plavajočo vejico\n",
    "* `array` lahko ustvarimo s pomočjo list-a:\n",
    "    ```\n",
    "    array([1, 2, 3, 4])\n",
    "    ```\n",
    "* Dimenzije array-a so zapisane v spremenljivki `shape`\n",
    "* Tip podatkov v array-u je zapisan v spremenljivki `dtype`"
   ]
  },
  {
   "cell_type": "code",
   "execution_count": null,
   "metadata": {},
   "outputs": [],
   "source": [
    "# Vključite knjižnico numpy in ustvarite array iz list-a\n"
   ]
  },
  {
   "cell_type": "code",
   "execution_count": null,
   "metadata": {},
   "outputs": [],
   "source": [
    "# Izpišite dimenzije array-a in tip podatkov v njem\n"
   ]
  },
  {
   "cell_type": "markdown",
   "metadata": {},
   "source": [
    "# Funkcije za generiranje podatkov\n",
    "* Privzeti konstruktor: `array`\n",
    "* Zaporedna števila od `start` do `stop` s korakom `korak`: `arange([start], stop, [korak])`\n",
    "* `n` ekvidistantno razporejenih števil od `start` do `stop`: `linspace(start, stop, n)`\n",
    "* Array samih ničel ali enic, dimenzij `(n, m, ...)`: `zeros`, `ones`"
   ]
  },
  {
   "cell_type": "code",
   "execution_count": null,
   "metadata": {},
   "outputs": [],
   "source": [
    "# Ustvarite array zaporednih številk od 0 do 30\n"
   ]
  },
  {
   "cell_type": "code",
   "execution_count": null,
   "metadata": {},
   "outputs": [],
   "source": [
    "# Ustvarite array sodih števil od 0 do 20\n"
   ]
  },
  {
   "cell_type": "code",
   "execution_count": null,
   "metadata": {},
   "outputs": [],
   "source": [
    "# Ustvarite array enajstih enakomerno razporejenih števil na intervalu od 0 do 1\n",
    "\n",
    "# In izpišite podatkovni tip ustvarjenega array-a\n"
   ]
  },
  {
   "cell_type": "code",
   "execution_count": null,
   "metadata": {},
   "outputs": [],
   "source": [
    "# Ustvarite array 5 ničel\n"
   ]
  },
  {
   "cell_type": "code",
   "execution_count": null,
   "metadata": {},
   "outputs": [],
   "source": [
    "# Ustvarite dvodimenzionalni array dimenzij 3x4, ki vsebuje samo enke\n"
   ]
  },
  {
   "cell_type": "markdown",
   "metadata": {},
   "source": [
    "# Izrisovanje podatkov\n",
    "* Uporabljali bomo modul `pyplot` knjižnice `matplotlib`\n",
    "* Uvozimo modul z ukazom: \n",
    "```python\n",
    "%matplotlib notebook\n",
    "import matplotlib.pyplot as plt\n",
    "```\n",
    "* Grafe rišemo z ukazom: `plt.plot(x, y)`"
   ]
  },
  {
   "cell_type": "code",
   "execution_count": null,
   "metadata": {},
   "outputs": [],
   "source": [
    "# Uvozite modul pyplot knjižnice matplotlib\n",
    "%matplotlib notebook\n",
    "import matplotlib.pyplot as plt\n",
    "# Narišite graf funkcije sin na intervalu od 0 do 2*pi\n"
   ]
  },
  {
   "cell_type": "markdown",
   "metadata": {},
   "source": [
    "# Indeksiranje podatkov\n",
    "* Do podatkov v array-u dostopamo z operatorjema `[]` in `:`\n",
    "* `x[start:stop:korak]`\n",
    "* Primeri:\n",
    "    * podatki od indeksa `i` do indeksa `j`: `x[i:j]`\n",
    "    * od indeksa `i` do konca array-a: `x[i:]`\n",
    "    * od začetka array-a do indeksa `i`: `x[:i]`\n",
    "    * števila na sodih indeksih: `x[::2]`\n",
    "    * z negativnimi števili lahko indeksiramo tudi od konca array-a: `x[-3]`\n",
    "    * z array-em podatkovnega tipa bool enakih dimenzij"
   ]
  },
  {
   "cell_type": "code",
   "execution_count": null,
   "metadata": {},
   "outputs": [],
   "source": [
    "# Ustvarite array zaporednih števil od 0 do 20\n"
   ]
  },
  {
   "cell_type": "code",
   "execution_count": null,
   "metadata": {},
   "outputs": [],
   "source": [
    "# Izpišite prvih 5 števil v prej ustvarjenem array-u\n"
   ]
  },
  {
   "cell_type": "code",
   "execution_count": null,
   "metadata": {},
   "outputs": [],
   "source": [
    "# Izpišite zadnja 3 števila v array-u\n"
   ]
  },
  {
   "cell_type": "code",
   "execution_count": null,
   "metadata": {},
   "outputs": [],
   "source": [
    "# Izpišite sredinski števili v array-u\n"
   ]
  },
  {
   "cell_type": "code",
   "execution_count": null,
   "metadata": {},
   "outputs": [],
   "source": [
    "# Izpišite vsako tretjo število v array-u\n"
   ]
  },
  {
   "cell_type": "code",
   "execution_count": null,
   "metadata": {},
   "outputs": [],
   "source": [
    "# Izpišite števila v array-u ki so večja od 3 in manjša od 10\n",
    "# (uporabite funkcijo logical_and)\n"
   ]
  },
  {
   "cell_type": "code",
   "execution_count": null,
   "metadata": {},
   "outputs": [],
   "source": [
    "# Narišite samo pozitivne vrednosti funkcije sin na intervalu od 0 do 2 pi\n"
   ]
  },
  {
   "cell_type": "code",
   "execution_count": null,
   "metadata": {},
   "outputs": [],
   "source": [
    "# Narišite samo vsako tretjo točko prejšnjega grafa\n"
   ]
  },
  {
   "cell_type": "markdown",
   "metadata": {},
   "source": [
    "# Indeksiranje več dimenzionalnih array-ev\n",
    "* Za vsako dimenzijo array-a podamo indekse ločene z vejicami `[i, j, k]`\n",
    "* Če podamo manj indeksov, kot je dimenzij dobimo array ki ima toliko dimenzij, kot je razlika med številom dimenzij originalnega array-a ter številom podanih indeksov\n",
    "* Da dobimo vse elemente po določeni dimenziji uporabimo operator `:`\n",
    "    * Primer: `x[i, :, k]`"
   ]
  },
  {
   "cell_type": "code",
   "execution_count": null,
   "metadata": {
    "scrolled": true
   },
   "outputs": [],
   "source": [
    "# Ustvarite dvodimenzionalni array\n",
    "\n",
    "# Izpišite 3 stolpec in 3 vrstico ustvarjenega array-a\n"
   ]
  },
  {
   "cell_type": "markdown",
   "metadata": {},
   "source": [
    "# Preoblikovanje array-a\n",
    "* Spreminjanje dimenzij: `reshape`\n",
    "* Preoblikovanje v enodimenzionalni array: `flatten`\n",
    "* Dodajanje novih dimenzij: `newaxis`\n",
    "* Združevanje arrayev: `concatenate`, `dstack`, `vstack`, `hstack`\n",
    "* Transponiranje: `transpose`, `rollaxis`\n",
    "* Ponavljanje podatkov: `tile`, `repeat`"
   ]
  },
  {
   "cell_type": "code",
   "execution_count": null,
   "metadata": {},
   "outputs": [],
   "source": [
    "# Z ukazom reshape spremenite eno dimenzionalni array \n",
    "# zaporednih števil od 0 do 15 v dvodimenzionalni array dimenzij 3x5\n"
   ]
  },
  {
   "cell_type": "code",
   "execution_count": null,
   "metadata": {},
   "outputs": [],
   "source": [
    "# Dobljeni array preoblikujte nazaj v eno dimenzionalni array\n"
   ]
  },
  {
   "cell_type": "code",
   "execution_count": null,
   "metadata": {},
   "outputs": [],
   "source": [
    "# Enodimenzionalnem array-u dodajte dimenzijo, da dobite dvodimenzionalni array\n"
   ]
  },
  {
   "cell_type": "code",
   "execution_count": null,
   "metadata": {},
   "outputs": [],
   "source": [
    "# Transponirajte enodimenzionalni array dobljeni array\n"
   ]
  },
  {
   "cell_type": "code",
   "execution_count": null,
   "metadata": {},
   "outputs": [],
   "source": [
    "# Združite dva 2d array-a po ničti dimenziji (po vrsticah)\n"
   ]
  },
  {
   "cell_type": "code",
   "execution_count": null,
   "metadata": {},
   "outputs": [],
   "source": [
    "# Združite dva 2d array-a po prvi dimenziji (po stolpcih)\n"
   ]
  },
  {
   "cell_type": "code",
   "execution_count": null,
   "metadata": {},
   "outputs": [],
   "source": [
    "# Ustvarite dvodimenzionalni array tako, da enodimenzionalnem array-u dodajate isti enodimenzionalni array\n"
   ]
  },
  {
   "cell_type": "markdown",
   "metadata": {},
   "source": [
    "# Operacije med array-i\n",
    "* Po elementih\n",
    "    * seštevanje,\n",
    "    * odštevanje,\n",
    "    * množenje,\n",
    "    * deljenje\n",
    "* Matrično\n",
    "    * skalarni produkt: `dot`\n",
    "    * vektorski produkt: `cross`\n",
    "    * matrično množenje: `dot` in `matmul`"
   ]
  },
  {
   "cell_type": "code",
   "execution_count": null,
   "metadata": {},
   "outputs": [],
   "source": [
    "# Prištejte array petih zaporednih števil vsaki vrstici identične matriki dimenzij 5x5\n"
   ]
  },
  {
   "cell_type": "code",
   "execution_count": null,
   "metadata": {},
   "outputs": [],
   "source": [
    "# Prištejte array petih zaporednih števil vsakemu stolpcu identični matriki dimenzij 5x5\n"
   ]
  },
  {
   "cell_type": "code",
   "execution_count": null,
   "metadata": {},
   "outputs": [],
   "source": [
    "# Izračunajte skalarni produkt dveh array-ev z množenjem in seštevanjem array-ev\n",
    "\n",
    "# Izračunajte skalarni produkt dveh array-ev s funkcijo dot\n"
   ]
  },
  {
   "cell_type": "code",
   "execution_count": null,
   "metadata": {},
   "outputs": [],
   "source": [
    "# Izračunajte vektorski produkt dveh array-ev\n"
   ]
  },
  {
   "cell_type": "code",
   "execution_count": null,
   "metadata": {},
   "outputs": [],
   "source": [
    "# Matrično množite 2d array z 1d array-em\n"
   ]
  },
  {
   "cell_type": "markdown",
   "metadata": {},
   "source": [
    "# Nekaj uporabnih operacij na array-u\n",
    "* Vsi elementi `True`: `all`\n",
    "* Vsaj en element `True`: `any`\n",
    "* Sortiraj vrednosti v array-u: `sort`\n",
    "* Indeks največje vrednosti v array-u: `argmax`\n",
    "* Indeks najmanjše vrednosti v array-u: `argmin`\n",
    "* Statistika: `average`, `median`, `std`, `var`"
   ]
  },
  {
   "cell_type": "code",
   "execution_count": null,
   "metadata": {},
   "outputs": [],
   "source": [
    "# Preizkusite delovanje zgoraj naštetih funkcij\n"
   ]
  }
 ],
 "metadata": {
  "kernelspec": {
   "display_name": "Python 3",
   "language": "python",
   "name": "python3"
  },
  "language_info": {
   "codemirror_mode": {
    "name": "ipython",
    "version": 3
   },
   "file_extension": ".py",
   "mimetype": "text/x-python",
   "name": "python",
   "nbconvert_exporter": "python",
   "pygments_lexer": "ipython3",
   "version": "3.6.8"
  },
  "varInspector": {
   "cols": {
    "lenName": 16,
    "lenType": 16,
    "lenVar": 40
   },
   "kernels_config": {
    "python": {
     "delete_cmd_postfix": "",
     "delete_cmd_prefix": "del ",
     "library": "var_list.py",
     "varRefreshCmd": "print(var_dic_list())"
    },
    "r": {
     "delete_cmd_postfix": ") ",
     "delete_cmd_prefix": "rm(",
     "library": "var_list.r",
     "varRefreshCmd": "cat(var_dic_list()) "
    }
   },
   "types_to_exclude": [
    "module",
    "function",
    "builtin_function_or_method",
    "instance",
    "_Feature"
   ],
   "window_display": false
  }
 },
 "nbformat": 4,
 "nbformat_minor": 2
}
