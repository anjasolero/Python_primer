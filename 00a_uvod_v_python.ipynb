{
 "cells": [
  {
   "cell_type": "markdown",
   "metadata": {},
   "source": [
    "# Laboratorijske vaje za predmet Robotski vid\n",
    "## Seznam vaj\n",
    "**0.a Predstavitev in Uvod v Python**\n",
    "  * Namen, vsebina, način izvajanja, sintaksa programskega jezika Python in osnove programiranja.\n",
    "  * Okolje Jupyter.\n",
    "  \n",
    "**0.b Uvod v Python**\n",
    "  * Utrjevanje znanja sintakse jezika Python. \n",
    "  * Razhroščevanje skript. \n",
    "  * Uporaba knjižnic – primeri `matplotlib`.\n",
    "  \n",
    "**1. Upravljanje in prikazovanje slik**\n",
    "  * Branje in pisanje digitalnih slik, pretvorba formata slik, prikazovanje slik. \n",
    "  * Uporaba knjižnic PIL in numpy.\n",
    "  \n",
    "**2. Sivinske preslikave slik**\n",
    "  * Parametrični in neparametrični postopki preslikave sivin. \n",
    "  * Kalibracija in obnova sivin.\n",
    "  \n",
    "**3. Osnovna obdelava slik**\n",
    "  * Glajenje slik z diskretno 2D konvolucijo, interpolacija in decimacija slik.\n",
    "  * Odvod in ostrenje slik.\n",
    "  \n",
    "**4. Robustno iskanje 2D objektov**\n",
    "  * Knjižnica OpenCV. \n",
    "  * Detektor robov Canny in Houghova preslikava. \n",
    "  * Zaznavanje objektov s strojnim učenjem.\n",
    "  \n",
    "**5. Geometrijske preslikave in poravnava oblik**\n",
    "  * Homogena transformacijska matrika, toga, afina, projektivna preslikava.\n",
    "  * Izpeljava zaprtozančne poravnave dveh oblik.\n",
    "  \n",
    "**6. Geometrijska kalibracija kamere**\n",
    "  * Model šahovnice, detekcija oglišč, projektivna preslikava in odprava radialnih popačenj. \n",
    "  * Numerična optimizacija.\n",
    "  \n",
    "**7. Določanje poze objektov v prostoru**\n",
    "  * Prileganje 3D modela na 2D sliko s parametrično poravnavo na osnovi mere podobnosti. \n",
    "  * Numerična optimizacija. \n",
    "  * Uvod v napredna Python razvojna okolja.\n",
    "  \n",
    "**8. Rekonstrukcija 3D oblik**\n",
    "  * Fotometrični stereo.\n",
    "  * Določanje albeda in normal površine objekta. \n",
    "  * Rekonstrukcija in upodabljanje 3D oblike.\n",
    "  \n",
    "**9. Sledenje objektov in analiza gibanja**\n",
    "  * Branje videa. \n",
    "  * Lukas-Kanade postopek sledenja. \n",
    "  * Piramidna shema. \n",
    "  * Optični tok.\n",
    "  \n",
    "**10. Lokalizacija v prostoru na podlagi slike**\n",
    "  * Primer algoritma za mapiranje okolja in lokalizacijo objekta v okolju.\n",
    "  \n",
    "**11. Vizualna kontrola kakovosti**\n",
    "  * Merjenje lastnosti objektov in zaznavanje napak na objektih. \n",
    "  * Izločanje značilnic. \n",
    "  * Histogrami značilnic. \n",
    "  * Razvrščevanje s hierarhičnim upragovanjem značilnic.\n",
    "  \n",
    "**12. Predstavitev seminarskih nalog**\n",
    "\n",
    "***"
   ]
  },
  {
   "cell_type": "markdown",
   "metadata": {
    "slideshow": {
     "slide_type": "slide"
    }
   },
   "source": [
    "# Uvod v Python\n",
    "## Pojdite na naslov http://todo"
   ]
  },
  {
   "cell_type": "markdown",
   "metadata": {
    "slideshow": {
     "slide_type": "slide"
    }
   },
   "source": [
    "## Kaj je Python?\n",
    "Python je *interpreterski*, *visokonivojski*, *splošno namenski* programski jezik. Velik poudarek jezika je na njegovi berljivosti, zato presledki vplivajo na delovanje kode. Na voljo je za različne operacijske sisteme (Windows, Linux, MacOs). Referenčna implementacija se imenuje *CPython* in je na voljo kot odprtokodna programska oprema.\n",
    "### Interpreterski\n",
    "Interpreterski programski jeziki izvajajo podan program sproti brez, da bi ga bi bilo prej potrebno prevesti v strojno kodo. Nekateri izmed interpreterskih programskih jezikov so: MATLAB, JavaScript, R, Lisp.\n",
    "### Visokonivojski\n",
    "Visokonivojski programski jeziki imajo močno abstrakcijo računalniških podrobnosti. Poskušajo biti čimbolj podobni naravnim jezikom zato, da so bolj preprosti za uporabo. Skrijejo in/ali avtomatizirajo velik del računalniških sistemov, da postane proces razvoja programov bolj preprost in razumljiv."
   ]
  },
  {
   "cell_type": "markdown",
   "metadata": {
    "slideshow": {
     "slide_type": "slide"
    }
   },
   "source": [
    "## Zgodovina jezika\n",
    "Python je ustvaril nizozemski programer **Guido van Rossum**. Idejo je dobil med božičnimi počitnicami leta 1989, prvo verzijo pa je izdal leta 1991.\n",
    "\n",
    "### Sledile so naslednje verzije:\n",
    "* 2.0, izdana oktobra 2000 (garbage collector, podpora za unicode)\n",
    "* 3.0, izdana decembra 2008\n",
    "* 3.7 je trentna najnovejša verzija"
   ]
  },
  {
   "cell_type": "markdown",
   "metadata": {
    "slideshow": {
     "slide_type": "slide"
    }
   },
   "source": [
    "## Zakaj Python?\n",
    "\n",
    "### Knjižnice\n",
    "* **OpenCV** - največja knjižnica za računalniški\n",
    "* **Tensorflow**, **Theano** (in druga ogrodja za globoko učenje)\n",
    "* **ROS** - najbolj priljubljen operacijski sistem/ogrodje za robotske projekte\n",
    "\n",
    "### Priljubljenost\n",
    "* 3. najbolj priljubljeni jezik po TIOBE Index-u\n",
    "* 3. najbolj priljubljeni jezik na Github platformi\n",
    "\n"
   ]
  },
  {
   "cell_type": "markdown",
   "metadata": {
    "slideshow": {
     "slide_type": "subslide"
    }
   },
   "source": [
    "### TIOBE Index\n",
    "Feb 2019 | Feb 2018 | Programming Language | Ratings | Change\n",
    "--- | --- | --- | --- | ---\n",
    "1 | 1 | Java | 15.876% | +0.89%\n",
    "2 | 2 |\tC | 12.424%\t| +0.57%\n",
    "**3** | **4** | **Python** | **7.574%** | **+2.41%**\n",
    "4 | 3 | C++ | 7.444% | +1.72%\n",
    "5 | 6 | Visual Basic .NET | 7.095% | +3.02%\n",
    "6 | 8 | JavaScript | 2.848% | -0.32%\n",
    "7 | 5 |\tC# | 2.846% | -1.61%\n",
    "8 | 7 | PHP | 2.271% | -1.15%\n",
    "9 | 11 | SQL | 1.900% | -0.46%\n",
    "10 | 20 | Objective-C | 1.447% | +0.32%"
   ]
  },
  {
   "cell_type": "markdown",
   "metadata": {
    "slideshow": {
     "slide_type": "subslide"
    }
   },
   "source": [
    "# [Python](https://xkcd.com/353/)\n",
    "![](https://imgs.xkcd.com/comics/python.png \"I wrote 20 short programs in Python yesterday.  It was wonderful.  Perl, I&#39;m leaving you.\")"
   ]
  },
  {
   "cell_type": "markdown",
   "metadata": {
    "slideshow": {
     "slide_type": "slide"
    }
   },
   "source": [
    "## Jupyter\n",
    "Nekaj uporabnih bližnjic\n",
    "* **Skupne**\n",
    "  * <kbd>Ctrl</kbd> + <kbd>Enter</kbd>: poženi trenutno celico\n",
    "  * <kbd>Shift</kbd> + <kbd>Enter</kbd>: poženi trenutno celico in izberi naslednjo celico\n",
    "* **Command mode** (ta način omogočite s pritiskom na <kbd>Esc</kbd>)\n",
    "  * <kbd>Enter</kbd>: vstopi v trenutno celico in omogoči urejanje (**Edit mode**)\n",
    "  * <kbd>&darr;</kbd>: izberi naslednjo celico\n",
    "  * <kbd>&uarr;</kbd>: izberi prejšnjo celico\n",
    "  * <kbd>Space</kbd>: pomaknite se navzdol\n",
    "  * <kbd>Shift</kbd> + <kbd>Space</kbd>: pomaknite se navzgor\n",
    "* **Edit mode** (ta način omogočite s pritiskom na <kbd>Enter</kbd>)\n",
    "  * <kbd>Tab</kbd>: dokončanje ukaza (code completion) ali zamik\n",
    "  * <kbd>Shift</kbd> + <kbd>Tab</kbd>: namig (tool tip)\n",
    "  * <kbd>Esc</kbd>: pojdi v **Command mode**"
   ]
  },
  {
   "cell_type": "code",
   "execution_count": null,
   "metadata": {
    "slideshow": {
     "slide_type": "fragment"
    }
   },
   "outputs": [],
   "source": [
    "# preizkusite bližnjice"
   ]
  },
  {
   "cell_type": "markdown",
   "metadata": {
    "slideshow": {
     "slide_type": "slide"
    }
   },
   "source": [
    "# Izpisovanje: ukaz `print`\n",
    "Preizkusite spodnje vrstice v naslednji celici:\n",
    "\n",
    "```python\n",
    "print(\"Moj prvi program\")\n",
    "print(\"Testiram izpisovanje\")\n",
    "print(\"Tretja vrstica\")\n",
    "```"
   ]
  },
  {
   "cell_type": "code",
   "execution_count": null,
   "metadata": {
    "slideshow": {
     "slide_type": "fragment"
    }
   },
   "outputs": [],
   "source": [
    "# Testiraj ukaz print"
   ]
  },
  {
   "cell_type": "markdown",
   "metadata": {
    "slideshow": {
     "slide_type": "slide"
    }
   },
   "source": [
    "# Operatorji\n",
    "* `+`: plus - seštevanje\n",
    "* `-`: minus - odštevanje\n",
    "* `/`: poševnica - deljenje\n",
    "* `*`: zvezda - množenje\n",
    "* `<`: manjše\n",
    "* `>`: večje\n",
    "* `<=`: manjše ali enako\n",
    "* `>=`: večje ali enako\n",
    "\n",
    "Preizkusite navedene operatorje v naslednji celici."
   ]
  },
  {
   "cell_type": "code",
   "execution_count": null,
   "metadata": {
    "slideshow": {
     "slide_type": "fragment"
    }
   },
   "outputs": [],
   "source": [
    "# Preizkusi + operator\n",
    "print(\"10 plus 5 je enako\", 10 + 5)\n",
    "# Preizkusi ostale operatorje\n",
    "# Minus -:\n",
    "print(\"13 minus 5 je\", 13 - 5)\n",
    "# Poševnica /:\n",
    "print(\"42 deljeno s 7 je\", 42/7)\n",
    "# Zvezda *:\n",
    "print(\"5 krat 5 je\", 5 * 5)\n",
    "# Manjše <:\n",
    "print(\"Ali je 5 + 7 manjše od 15?\", 5 + 7 < 15)\n",
    "# Večje \n",
    "print(\"27 je večje od 72\", 27 > 72)\n",
    "# Manjše ali enako\n",
    "print(\"20 je manjše ali enako 23\", 20 <= 23)\n",
    "# Večje ali enako\n",
    "print(\"31 je večje ali enako 31\", 31 >= 31)"
   ]
  },
  {
   "cell_type": "markdown",
   "metadata": {
    "slideshow": {
     "slide_type": "slide"
    }
   },
   "source": [
    "# Operatorji\n",
    "Ugotovite katere operacije predstavljajo spodnji operatorji in dopolnite spodnji seznam:\n",
    "\n",
    "* `//`: dve poševnici - ?\n",
    "* `**`: dve zvezdi - ?\n",
    "* `==`: dva enačaja - ?\n",
    "* `!=`: klicaj in enačaj - ?\n",
    "* `%`: procent - ?"
   ]
  },
  {
   "cell_type": "code",
   "execution_count": null,
   "metadata": {
    "slideshow": {
     "slide_type": "fragment"
    }
   },
   "outputs": [],
   "source": [
    "# Ugotovite katere operacije predstavljajo operatorji:\n",
    "# //\n",
    "print(\"Dve poševnici //:\")\n",
    "print(\"3 // 3 =\", 3 // 3)\n",
    "print(\"12 // 5 =\", 12 // 5)\n",
    "print(\"0 // 10 =\", 0 // 10)"
   ]
  },
  {
   "cell_type": "code",
   "execution_count": null,
   "metadata": {
    "slideshow": {
     "slide_type": "fragment"
    }
   },
   "outputs": [],
   "source": [
    "# **\n",
    "print(\"Dve zvezdi **:\")\n",
    "print(\"3 ** 2 =\", 3 ** 2)\n",
    "print(\"4 ** 2 =\", 4 ** 2)\n",
    "print(\"4 ** 3 =\", 4 ** 3)"
   ]
  },
  {
   "cell_type": "code",
   "execution_count": null,
   "metadata": {
    "slideshow": {
     "slide_type": "fragment"
    }
   },
   "outputs": [],
   "source": [
    "# ==\n",
    "print(\"Dva enačaja:\")\n",
    "print(\"3 == 3 =\", 3 == 3)\n",
    "print(\"4 == 5 =\", 4 == 5)\n",
    "print(\"10 == 13 =\", 10 == 13)"
   ]
  },
  {
   "cell_type": "code",
   "execution_count": null,
   "metadata": {
    "slideshow": {
     "slide_type": "fragment"
    }
   },
   "outputs": [],
   "source": [
    "# !=\n",
    "print(\"Klicaj in enačaj:\")\n",
    "print(\"3 != 3 =\", 3 != 3)\n",
    "print(\"4 != 5 =\", 4 != 5)\n",
    "print(\"10 != 13 =\", 10 != 13)"
   ]
  },
  {
   "cell_type": "code",
   "execution_count": null,
   "metadata": {
    "slideshow": {
     "slide_type": "fragment"
    }
   },
   "outputs": [],
   "source": [
    "# %\n",
    "print(\"Procent %:\")\n",
    "print(\"5 % 8 =\", 5 % 8)\n",
    "print(\"1 % 4 =\", 1 % 4)\n",
    "print(\"5 % 5 =\", 5 % 5)"
   ]
  },
  {
   "cell_type": "markdown",
   "metadata": {
    "slideshow": {
     "slide_type": "slide"
    }
   },
   "source": [
    "# Spremenljivke\n",
    "* Z imenom označuje lokacijo v pomnilniku na kateri je zapisana določena vrednost\n",
    "* Vrednost ji določimo z operatorjem `=`\n",
    "* Ime spremenljivke:\n",
    "  * se lahko začne s črko (a-z, A-Z) ali podčrtajem (_)\n",
    "  * ostali znaki so lahko črke, številke ali _\n",
    "  * ne sme biti ena izmed rezerviranih besed (preverite z ukazom `keyword.iskeyword()`)\n",
    "* Spremenljivke lahko uporabite v `print` ukazu"
   ]
  },
  {
   "cell_type": "code",
   "execution_count": null,
   "metadata": {
    "slideshow": {
     "slide_type": "fragment"
    }
   },
   "outputs": [],
   "source": [
    "# Pravilna imena\n",
    "x = 10\n",
    "y = 20\n",
    "testna_spremenljivka = \"bla\"\n",
    "leto2019 = 2019\n",
    "print(x, y, testna_spremenljivka, leto2019)"
   ]
  },
  {
   "cell_type": "code",
   "execution_count": null,
   "metadata": {
    "slideshow": {
     "slide_type": "fragment"
    }
   },
   "outputs": [],
   "source": [
    "# Seznam rezerviranih besed\n",
    "import keyword\n",
    "print(keyword.kwlist)"
   ]
  },
  {
   "cell_type": "code",
   "execution_count": null,
   "metadata": {
    "slideshow": {
     "slide_type": "fragment"
    }
   },
   "outputs": [],
   "source": [
    "# S funkcijo keyword.iskeyword lahko preverite\n",
    "# ali je beseda rezervirana\n",
    "print(\"Ali je 'lambda' rezervirana?\", keyword.iskeyword(\"lambda\"))\n",
    "print(\"Ali je 'alpha' rezervirana?\", keyword.iskeyword(\"alpha\"))"
   ]
  },
  {
   "cell_type": "markdown",
   "metadata": {
    "slideshow": {
     "slide_type": "slide"
    }
   },
   "source": [
    "# `tuple`\n",
    "Nespremenljiva podatkovna struktura sestavljena iz več delov.\n",
    "\n",
    "```python\n",
    "t2 = tuple((1, 2))\n",
    "t3 = tuple((\"banana\", \"jabolko\", \"borovnica\"))\n",
    "```\n",
    "\n",
    "* Lahko dostopamo do elementov z operatorjem `[]`\n",
    "* Lahko dobimo njegovo velikost z ukazom `len()`\n",
    "* Lahko ugotovimo ali se element nahaja v tuple z operatorjem `in`\n",
    "* Ne moremo dodajati ali odvzemati elementov\n",
    "* Ne moremo spreminjati obstoječih elementov"
   ]
  },
  {
   "cell_type": "code",
   "execution_count": null,
   "metadata": {
    "slideshow": {
     "slide_type": "fragment"
    }
   },
   "outputs": [],
   "source": [
    "t2 = tuple((1, 2))\n",
    "# lahko uporabimo tudi konstruktor brez besede tuple\n",
    "t3 = (\"banana\", \"jabolko\", \"borovnica\")\n",
    "\n",
    "# Dostopanje do elementov\n",
    "print(\"Prvi element t2 je\", t2[0])\n",
    "\n",
    "# Število elementov v tuple\n",
    "print(\"tuple t3 vsebuje\", len(t3), \"elemente.\")\n",
    "\n",
    "# Ali je element v tuple\n",
    "print('Ali je \"borovnica\" v t3?', \"borovnica\" in t3)"
   ]
  },
  {
   "cell_type": "code",
   "execution_count": null,
   "metadata": {
    "slideshow": {
     "slide_type": "fragment"
    }
   },
   "outputs": [],
   "source": [
    "# tuple je nespremenljiv (immutable)\n",
    "# ne moremo dodajati ali odvzemati elementov\n",
    "t2[2] = 3"
   ]
  },
  {
   "cell_type": "code",
   "execution_count": null,
   "metadata": {
    "slideshow": {
     "slide_type": "fragment"
    }
   },
   "outputs": [],
   "source": [
    "# ne moremo spreminjati obstoječih elementov\n",
    "t3[0] = \"limona\""
   ]
  },
  {
   "cell_type": "markdown",
   "metadata": {
    "slideshow": {
     "slide_type": "slide"
    }
   },
   "source": [
    "# Seznam - `list`\n",
    "Spremenljiva podatkovna struktura sestavljena iz urejenih elementov.\n",
    "\n",
    "```python\n",
    "seznam = [1, 2, 3, 4]\n",
    "```\n",
    "\n",
    "* Do elementov dostopamo z operatorjem `[]`\n",
    "* Elemente dodajamo in odvzemamo z ukazi `append`, `insert`, `pop` in `remove`\n",
    "* Velikost dobimo z ukazom `len()`\n",
    "* Ali se element nahaja v seznamu ugotovimo z operatorjem `in`"
   ]
  },
  {
   "cell_type": "code",
   "execution_count": null,
   "metadata": {
    "slideshow": {
     "slide_type": "fragment"
    }
   },
   "outputs": [],
   "source": [
    "seznam = [1, 2, 3, 4]\n",
    "# Dostopanje do elementov\n",
    "print(\"Prvi element seznama je\", seznam[0])\n",
    "# Spreminjanje elementov\n",
    "seznam[0] = 23\n",
    "print(\"Prvi element seznama je sedaj\", seznam[0])"
   ]
  },
  {
   "cell_type": "code",
   "execution_count": null,
   "metadata": {
    "slideshow": {
     "slide_type": "fragment"
    }
   },
   "outputs": [],
   "source": [
    "# Dodajanje elementov\n",
    "seznam.append(42)\n",
    "print(\"Seznam po dodanem elementu na koncu:\", seznam)\n",
    "seznam.insert(2, 33)\n",
    "print(\"Seznam po dodanem elementu na tretje mesto:\", seznam)"
   ]
  },
  {
   "cell_type": "code",
   "execution_count": null,
   "metadata": {
    "slideshow": {
     "slide_type": "fragment"
    }
   },
   "outputs": [],
   "source": [
    "# Odstranjevanje elementov\n",
    "seznam.pop(2)\n",
    "print(\"Seznam po odstranjenem elementu na tretjem mestu:\", seznam)\n",
    "seznam.remove(42)\n",
    "print(\"Seznam po odstranjenem elementu 42:\", seznam)"
   ]
  },
  {
   "cell_type": "markdown",
   "metadata": {
    "slideshow": {
     "slide_type": "slide"
    }
   },
   "source": [
    "# `dictionary` ali `dict`\n",
    "Asociativna, neurejena in spremenljiva podatkovna struktura. Sestavljen je iz parov \"ključ\" in \"vrednost\".\n",
    "\n",
    "```python\n",
    "avtomobil = {\"model\": \"911 Carrera RS 2.7\", \n",
    "             \"znamka\": \"Porsche\", \n",
    "             \"moč\": 154,\n",
    "             \"teža\": 960}\n",
    "```\n",
    "\n",
    "* Do elementov dostopamo z operatorjem `[]` in ključem ali z ukazom `get()`\n",
    "* Elemente prav tako dodajamo z operatorjem `[]`\n",
    "* Seznam vseh ključev dobimo z ukazom `keys()`\n",
    "* Seznam vseh vrednosti dobimo z ukazom `values()`\n",
    "* Število elementov dobimo z ukazom `len()`\n",
    "* Ali se element nahaja v seznamu ugotovimo z operatorjem `in`"
   ]
  },
  {
   "cell_type": "code",
   "execution_count": null,
   "metadata": {
    "slideshow": {
     "slide_type": "fragment"
    }
   },
   "outputs": [],
   "source": [
    "# Primer\n",
    "avtomobil = {\"model\": \"911 Carrera RS 2.7\", \n",
    "             \"znamka\": \"Porsche\", \n",
    "             \"moč\": 154,\n",
    "             \"teža\": 960}\n",
    "print(porsche911)"
   ]
  },
  {
   "cell_type": "code",
   "execution_count": null,
   "metadata": {
    "slideshow": {
     "slide_type": "fragment"
    }
   },
   "outputs": [],
   "source": [
    "# Dostopanje do elementov\n",
    "print(\"Model avtomobila:\", avtomobil[\"model\"])"
   ]
  },
  {
   "cell_type": "code",
   "execution_count": null,
   "metadata": {
    "slideshow": {
     "slide_type": "fragment"
    }
   },
   "outputs": [],
   "source": [
    "# Seznam vseh elementov\n",
    "print(\"Seznam vseh elementov:\", avtomobil.items())"
   ]
  },
  {
   "cell_type": "markdown",
   "metadata": {
    "slideshow": {
     "slide_type": "slide"
    }
   },
   "source": [
    "# `if` stavek\n",
    "```python\n",
    "if pogoj:\n",
    "    telo\n",
    "elif naslednji pogoj:\n",
    "    telo\n",
    "elif tretji pogoj:\n",
    "    telo\n",
    "# sledi lahko poljubno število pogojev\n",
    "else:\n",
    "    telo\n",
    "```"
   ]
  },
  {
   "cell_type": "code",
   "execution_count": null,
   "metadata": {
    "slideshow": {
     "slide_type": "fragment"
    }
   },
   "outputs": [],
   "source": [
    "# Uporaba if stavka\n",
    "mačke = 30\n",
    "psi = 40\n",
    "miši = 15\n",
    "if mačke > miši:\n",
    "    print(\"Mačk je več kot miši\")\n",
    "if psi > mačke:\n",
    "    print(\"Psov je več kot mačk\")"
   ]
  },
  {
   "cell_type": "code",
   "execution_count": null,
   "metadata": {
    "slideshow": {
     "slide_type": "fragment"
    }
   },
   "outputs": [],
   "source": [
    "# Napredna uporaba if stavka\n",
    "miši += 15\n",
    "if mačke > miši:\n",
    "    print(\"Mačk je več kot miši.\")\n",
    "elif mačke < miši:\n",
    "    print(\"Miši je več kot mačk.\")\n",
    "else:\n",
    "    print(\"Enako število mačk in miši.\")"
   ]
  },
  {
   "cell_type": "markdown",
   "metadata": {
    "slideshow": {
     "slide_type": "slide"
    }
   },
   "source": [
    "# `while` zanka\n",
    "```python\n",
    "while pogoj:\n",
    "    telo\n",
    "```"
   ]
  },
  {
   "cell_type": "code",
   "execution_count": null,
   "metadata": {
    "slideshow": {
     "slide_type": "fragment"
    }
   },
   "outputs": [],
   "source": [
    "# Telo while zanke se ponavlja dokler je izpolnjen pogoj\n",
    "x = 3\n",
    "while x > 0:\n",
    "    print(x)\n",
    "    x = x - 1"
   ]
  },
  {
   "cell_type": "code",
   "execution_count": null,
   "metadata": {
    "slideshow": {
     "slide_type": "fragment"
    }
   },
   "outputs": [],
   "source": [
    "# Če pogoj na začetku ni izpolnjen\n",
    "# se telo nikoli ne izvede\n",
    "x = 0\n",
    "while x > 0:\n",
    "    print(x)\n",
    "    x = x - 1"
   ]
  },
  {
   "cell_type": "code",
   "execution_count": null,
   "metadata": {
    "slideshow": {
     "slide_type": "fragment"
    }
   },
   "outputs": [],
   "source": [
    "# Zanko lahko prekinemo tudi z ukazom break\n",
    "x = 0\n",
    "while True:\n",
    "    print(x)\n",
    "    x = x - 1\n",
    "    if (x < 0):\n",
    "        break"
   ]
  },
  {
   "cell_type": "markdown",
   "metadata": {
    "slideshow": {
     "slide_type": "slide"
    }
   },
   "source": [
    "# `for` zanka\n",
    "\n",
    "* `for` zanka je zanka specializirana za 'zbirke' (podatkovne strukture z več elementi).\n",
    "* Uporabljamo jo lahko na vseh prej omenjenih podatkovnih zbirkah (`tuple`, `list`, `dict`).\n",
    "\n",
    "```python\n",
    "for element in zbirka:\n",
    "    telo\n",
    "```"
   ]
  },
  {
   "cell_type": "code",
   "execution_count": null,
   "metadata": {
    "slideshow": {
     "slide_type": "fragment"
    }
   },
   "outputs": [],
   "source": [
    "# Sprehajanje po seznamu\n",
    "seznam = [1, 1, 4, 9, 16]\n",
    "indeks = 0\n",
    "for element in seznam:\n",
    "    print(f\"Element {indeks}:\", element)\n",
    "    indeks += 1"
   ]
  },
  {
   "cell_type": "code",
   "execution_count": null,
   "metadata": {
    "slideshow": {
     "slide_type": "fragment"
    }
   },
   "outputs": [],
   "source": [
    "# Sprehajanje po dict\n",
    "for element in avtomobil:\n",
    "    print(f\"{element}: {avtomobil[element]}\")"
   ]
  },
  {
   "cell_type": "markdown",
   "metadata": {
    "slideshow": {
     "slide_type": "slide"
    }
   },
   "source": [
    "# Funkcije\n",
    "\n",
    "* Definicija:\n",
    "    ```python\n",
    "    def average(numbers):\n",
    "        # telo funkcije\n",
    "        # opcijsko:\n",
    "        # return n \n",
    "    ```\n",
    "* Uporaba (klic):\n",
    "    ```python\n",
    "    povprecje = average([1, 2, 3, 4, 5])\n",
    "    ```"
   ]
  },
  {
   "cell_type": "code",
   "execution_count": null,
   "metadata": {
    "slideshow": {
     "slide_type": "fragment"
    }
   },
   "outputs": [],
   "source": [
    "# Funkcija za izračun povprečja\n",
    "def average(numbers):\n",
    "    result = 0\n",
    "    for number in numbers:\n",
    "        result = result + number\n",
    "    return result/len(numbers)"
   ]
  },
  {
   "cell_type": "code",
   "execution_count": null,
   "metadata": {
    "slideshow": {
     "slide_type": "fragment"
    }
   },
   "outputs": [],
   "source": [
    "# Uporaba funkcije\n",
    "numbers = [1, 2, 3, 4, 5]\n",
    "print(f\"Povprečje števil {numbers} je:\", average(numbers))"
   ]
  }
 ],
 "metadata": {
  "celltoolbar": "Slideshow",
  "kernelspec": {
   "display_name": "Python 3",
   "language": "python",
   "name": "python3"
  },
  "language_info": {
   "codemirror_mode": {
    "name": "ipython",
    "version": 3
   },
   "file_extension": ".py",
   "mimetype": "text/x-python",
   "name": "python",
   "nbconvert_exporter": "python",
   "pygments_lexer": "ipython3",
   "version": "3.6.8"
  },
  "varInspector": {
   "cols": {
    "lenName": 16,
    "lenType": 16,
    "lenVar": 40
   },
   "kernels_config": {
    "python": {
     "delete_cmd_postfix": "",
     "delete_cmd_prefix": "del ",
     "library": "var_list.py",
     "varRefreshCmd": "print(var_dic_list())"
    },
    "r": {
     "delete_cmd_postfix": ") ",
     "delete_cmd_prefix": "rm(",
     "library": "var_list.r",
     "varRefreshCmd": "cat(var_dic_list()) "
    }
   },
   "types_to_exclude": [
    "module",
    "function",
    "builtin_function_or_method",
    "instance",
    "_Feature"
   ],
   "window_display": false
  }
 },
 "nbformat": 4,
 "nbformat_minor": 2
}
