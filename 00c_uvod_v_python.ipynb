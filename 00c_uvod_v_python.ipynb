{
 "cells": [
  {
   "cell_type": "markdown",
   "metadata": {},
   "source": [
    "# Uvod v programski jezik Python\n",
    "Delovni zvezek oz. jupyter notebook je namenjen spoznavanju osnov programskega jezika Python, s poudarkom na sintaksi, pisanju funkcij, delu s knjiznicami, ipd.\n",
    "Naloge so povzete po knjigi [[1]](#1), ki jo je pripravil prof. dr. Miran Bürmen, kjer najdete natancnejse razlage in tudi celovit uvod v programski jezik Python.\n",
    "\n",
    "<a id=\"1\">[1]</a>\n",
    "Burmen, M., Pernus, F., & Vrtovec, T. (2016). Uvod v programski jezik Python. Zalozba FE.\n",
    "\n",
    "Delovni zvezek je pripravil mag. Gašper Podobnik.\n",
    "\n"
   ]
  },
  {
   "cell_type": "markdown",
   "metadata": {},
   "source": [
    "## Osnove\n"
   ]
  },
  {
   "cell_type": "markdown",
   "metadata": {},
   "source": [
    "**Komentiranje**: Tolmac programskega jezika Python bo v celoti prezrl vsebino vrstice, ki sledi znaku `#`.\n"
   ]
  },
  {
   "cell_type": "code",
   "execution_count": null,
   "metadata": {},
   "outputs": [],
   "source": [
    "# to je komentar"
   ]
  },
  {
   "cell_type": "markdown",
   "metadata": {},
   "source": [
    "Daljse komentarje, ki obsegajo vec vrstic, pricnemo in zakljucimo z zaporedjem **treh narekovajev**, in sicer enojnih `'''` ali dvojnih `\"\"\"`.\n"
   ]
  },
  {
   "cell_type": "code",
   "execution_count": null,
   "metadata": {},
   "outputs": [],
   "source": [
    "\"\"\"\n",
    "To je prva vrstica komentarja.\n",
    "To je druga vrstica komentarja.\n",
    "\"\"\"\n"
   ]
  },
  {
   "cell_type": "markdown",
   "metadata": {},
   "source": [
    "**Podatkovni tipi**: Delimo jih na `enostavne podatkovne tipe` in `sestavljene podatkovne tipe`.\n",
    "![Podatkovni tipi](https://i.imgur.com/6cg2E9Q.png)\n"
   ]
  },
  {
   "cell_type": "markdown",
   "metadata": {},
   "source": [
    "**Enostavni podatkovni tipi**: Za prirejanje vrednosti spremenljivki uporabimo znak `=`. Ime spremenljivke se mora zaceti s crko ali s podcrtajem (prvi znak ne sme biti stevilka) in lahko vsebuje le alfanumericne znake (`A-z`, `0-9`, in `_`).\n",
    "Imena spremenljivk so obcutljiva na velike in male crke!\n"
   ]
  },
  {
   "cell_type": "code",
   "execution_count": null,
   "metadata": {},
   "outputs": [],
   "source": [
    "a = None  # None\n",
    "b = False  # bool\n",
    "c = 12  # int, spremenljivki `c` priredimo vrednost 12, torej je `c` tipa int\n",
    "d = 0.1  # float\n",
    "e = 1 + 5j  # complex\n",
    "f = \"Obdelava slik in videa\"  # str\n",
    "print(a, b, c, d, e, f)  # spremenljivke izpisemo v konzolo\n"
   ]
  },
  {
   "cell_type": "markdown",
   "metadata": {},
   "source": [
    "**Sestavljeni podatkovni tipi**:\n",
    "\n",
    "- `tuple`: <u>Nespremenljivi</u> urejeni seznam. Seznamu ni mogoce dodati novih elementov ali naknadno spremeniti vrednosti obstojecih. Pri tovrstnih seznamih, ki vsebujejo zgolj en element, je potrebno pred zaklepajem uporabiti zakljucno vejico.\n",
    "- `list`: <u>Urejeni</u> seznam.\n",
    "- `dict`: Slovar tvorijo neurejeni pari `kljuc`: `vrednost`. <u>Vsak kljuc se lahko v slovarju pojavi le enkrat.</u> Kljuc ni omejen le na znakovne nize, kot bi morda lahko zmotno sklepali iz imena slovar, ampak je lahko tudi celo stevilo ali stevilo zapisano s plavajoco vejico.\n"
   ]
  },
  {
   "cell_type": "markdown",
   "metadata": {},
   "source": [
    "### `tuple`\n"
   ]
  },
  {
   "cell_type": "code",
   "execution_count": null,
   "metadata": {},
   "outputs": [],
   "source": [
    "g = \"osv\"\n",
    "h = (\"osv\",)\n",
    "print(type(g))\n",
    "print(type(h))\n",
    "i = (\n",
    "    1,\n",
    "    1.2,\n",
    "    \"niz\",\n",
    "    (\"nekaj\", 33.1, 2),\n",
    ")  # elementi v tuplu so lahko razlicnega podatkovnega tipa\n",
    "print(i)"
   ]
  },
  {
   "cell_type": "markdown",
   "metadata": {},
   "source": [
    "Vrednosti v nespremenljivem seznamu ne moremo spreminjati.\n"
   ]
  },
  {
   "cell_type": "code",
   "execution_count": null,
   "metadata": {},
   "outputs": [],
   "source": [
    "i[0] = 1"
   ]
  },
  {
   "cell_type": "markdown",
   "metadata": {},
   "source": [
    "### `list`\n"
   ]
  },
  {
   "cell_type": "code",
   "execution_count": null,
   "metadata": {},
   "outputs": [],
   "source": [
    "seznam = [1, 2, 3]\n",
    "print(seznam)\n",
    "print(type(seznam))"
   ]
  },
  {
   "cell_type": "markdown",
   "metadata": {},
   "source": [
    "Vrednosti obstojecih elementov v seznamu lahko spremenimo.\n"
   ]
  },
  {
   "cell_type": "code",
   "execution_count": null,
   "metadata": {},
   "outputs": [],
   "source": [
    "seznam[0] = \"prvi element\"\n",
    "print(seznam)"
   ]
  },
  {
   "cell_type": "markdown",
   "metadata": {},
   "source": [
    "Seznamu lahko dodamo tudi nove elemente. V ta namen lahko uporabimo metodo `append`:\n"
   ]
  },
  {
   "cell_type": "code",
   "execution_count": null,
   "metadata": {},
   "outputs": [],
   "source": [
    "seznam.append(\"niz\")\n",
    "print(seznam)\n",
    "seznam.append((1, 2))\n",
    "print(seznam)"
   ]
  },
  {
   "cell_type": "markdown",
   "metadata": {},
   "source": [
    "Posamezne elemente drugega seznama lahko seznamu pripnemo z metodo `extend`:\n"
   ]
  },
  {
   "cell_type": "code",
   "execution_count": null,
   "metadata": {},
   "outputs": [],
   "source": [
    "seznam = [1, 2, 3]\n",
    "seznam.extend((\"a\", \"b\"))\n",
    "print(seznam)"
   ]
  },
  {
   "cell_type": "markdown",
   "metadata": {},
   "source": [
    "Iz seznama lahko odstranimo element z metodo `remove`:\n"
   ]
  },
  {
   "cell_type": "code",
   "execution_count": null,
   "metadata": {},
   "outputs": [],
   "source": [
    "seznam = [1, 2, \"niz\", \"niz\",3]\n",
    "while \"niz\" in seznam:\n",
    "    seznam.remove(\"niz\")\n",
    "\n",
    "print(seznam)"
   ]
  },
  {
   "cell_type": "markdown",
   "metadata": {},
   "source": [
    "### `dict`\n"
   ]
  },
  {
   "cell_type": "code",
   "execution_count": null,
   "metadata": {},
   "outputs": [],
   "source": [
    "slovar = {\"a\": 111, \"b\": [1, \"niz \"], 11: {\"a\": 12, \"nic\": 0}}"
   ]
  },
  {
   "cell_type": "markdown",
   "metadata": {},
   "source": [
    "Do posameznih vrednosti v slovarju lahko dostopamo s clansko funkcijo `get`:\n"
   ]
  },
  {
   "cell_type": "code",
   "execution_count": null,
   "metadata": {},
   "outputs": [],
   "source": [
    "slovar.get(11)"
   ]
  },
  {
   "cell_type": "markdown",
   "metadata": {},
   "source": [
    "Iz slovarja lahko odstranimo element z metodo `pop`:\n"
   ]
  },
  {
   "cell_type": "code",
   "execution_count": null,
   "metadata": {},
   "outputs": [],
   "source": [
    "print(slovar.pop(11))\n",
    "print(slovar)"
   ]
  },
  {
   "cell_type": "markdown",
   "metadata": {},
   "source": [
    "## Naslavljanje elementov objektov\n"
   ]
  },
  {
   "cell_type": "code",
   "execution_count": null,
   "metadata": {},
   "outputs": [],
   "source": [
    "seznam = [\"antika\", \"b\", \"c\", \"d\", \"e\", \"f\"]\n",
    "len(seznam)\n"
   ]
  },
  {
   "cell_type": "code",
   "execution_count": null,
   "metadata": {},
   "outputs": [],
   "source": [
    "seznam[0]  # prvi element\n"
   ]
  },
  {
   "cell_type": "code",
   "execution_count": null,
   "metadata": {},
   "outputs": [],
   "source": [
    "seznam[2]  # tretji element\n"
   ]
  },
  {
   "cell_type": "code",
   "execution_count": null,
   "metadata": {},
   "outputs": [],
   "source": [
    "seznam[-2]  # zadnji element\n"
   ]
  },
  {
   "cell_type": "code",
   "execution_count": null,
   "metadata": {},
   "outputs": [],
   "source": [
    "seznam[:-2]  # vsi elementi od prvega do vkljucno drugega\n"
   ]
  },
  {
   "cell_type": "code",
   "execution_count": null,
   "metadata": {},
   "outputs": [],
   "source": [
    "seznam[1:3]  # vsi elementi od drugega do vkljucno tretjega\n"
   ]
  },
  {
   "cell_type": "code",
   "execution_count": null,
   "metadata": {},
   "outputs": [],
   "source": [
    "seznam[3:]  # vsi elementi od cetrtega do vkljucno zadnjega\n"
   ]
  },
  {
   "cell_type": "code",
   "execution_count": null,
   "metadata": {},
   "outputs": [],
   "source": [
    "seznam[1:5:2]  # vsi elementi od drugega do vkljucno petega s korakom 2\n"
   ]
  },
  {
   "cell_type": "code",
   "execution_count": null,
   "metadata": {},
   "outputs": [],
   "source": [
    "seznam[2:-1]  # vsi elementi od tretjega do vkljucno predzadnjega\n"
   ]
  },
  {
   "cell_type": "code",
   "execution_count": null,
   "metadata": {},
   "outputs": [],
   "source": [
    "seznam[::-1]  # obrne vrstni red elementov v seznamu\n"
   ]
  },
  {
   "cell_type": "markdown",
   "metadata": {},
   "source": [
    "Naslavljanje lahko uporabimo skupaj s prireditvenim operatorjem in na ta nacin spremenimo vrednosti posameznih elementov.\n"
   ]
  },
  {
   "cell_type": "code",
   "execution_count": null,
   "metadata": {},
   "outputs": [],
   "source": [
    "seznam = [1, 2, 3, 4, 5, 6]\n",
    "seznam[0] = 10  # [10, 2, 3, 4, 5, 6]\n",
    "seznam[-1] = 600  # [10, 2, 3, 4, 5, 600]\n",
    "seznam[1] += 10  # [10, 12, 3, 4, 5, 600]\n",
    "seznam"
   ]
  },
  {
   "cell_type": "code",
   "execution_count": null,
   "metadata": {},
   "outputs": [],
   "source": [
    "seznam[2:4] = [10, 20]  # priredimo vrednosti tretjemu in cetrtemu elementu\n",
    "seznam"
   ]
  },
  {
   "cell_type": "markdown",
   "metadata": {},
   "source": [
    "Vse zgoraj opisane nacine naslavljanja je mogoce uporabiti tudi za nespremenljive sezname in znakovne nize.\n"
   ]
  },
  {
   "cell_type": "code",
   "execution_count": null,
   "metadata": {},
   "outputs": [],
   "source": [
    "niz = \"To je niz\"\n",
    "niz[3:]"
   ]
  },
  {
   "cell_type": "markdown",
   "metadata": {},
   "source": [
    "Naslov izbranega elementa seznama lahko dobimo z metodo `index`.\n"
   ]
  },
  {
   "cell_type": "code",
   "execution_count": null,
   "metadata": {},
   "outputs": [],
   "source": [
    "(\"a\", \"b\", \"c\").index(\"b\")\n"
   ]
  },
  {
   "cell_type": "markdown",
   "metadata": {},
   "source": [
    "Pri naslavljanju velja posebej obravnavati slovar, katerega elemente naslavljamo s kljucem, in sicer kot slovar[kljuc]. Podoben ucinek je mogoce doseci z metodo `get`.\n"
   ]
  },
  {
   "cell_type": "code",
   "execution_count": null,
   "metadata": {},
   "outputs": [],
   "source": [
    "slovar = {\"a\": 1, 2: \"test \", \"c\": {\"a\": 2}}\n",
    "slovar[\"a\"]\n"
   ]
  },
  {
   "cell_type": "code",
   "execution_count": null,
   "metadata": {},
   "outputs": [],
   "source": [
    "slovar[\"c\"][\"a\"]\n"
   ]
  },
  {
   "cell_type": "code",
   "execution_count": null,
   "metadata": {},
   "outputs": [],
   "source": [
    "slovar[\"a\"] *= 10\n",
    "slovar"
   ]
  },
  {
   "cell_type": "code",
   "execution_count": null,
   "metadata": {},
   "outputs": [],
   "source": [
    "slovar[\"b\"] = \"novi\"  # dodamo novi element\n",
    "slovar"
   ]
  },
  {
   "cell_type": "markdown",
   "metadata": {},
   "source": [
    "## Prireditveni operator\n",
    "\n",
    "Sedaj lahko nekaj vec pozornosti namenimo se prireditvenemu operatorju. Vsi objekti programskega jezika Python se podajajo/prirejajo po referenci, kar je se najbolj podobno kazalcem\n",
    "programskih jezikov C in C++. Podatki se pri prirejanju nikoli ne kopirajo. Dobimo zgolj drugo imensko spremenljivko, ki se sklicuje na vsebino prirejene spremenljivke. Ko potrebujemo kopijo podatkov, uporabimo konstruktor ali pa za ta namen predvideno funkcijo/metodo. Ko se na doloceno vsebino ne sklicuje nobena spremenljivka vec, jo tolmac samodejno razgradi in sprosti pomnilnik. Opisano lastnost podajanja objektov po referenci si bomo najlazje ogledali na primeru.\n"
   ]
  },
  {
   "cell_type": "code",
   "execution_count": null,
   "metadata": {},
   "outputs": [],
   "source": [
    "a = [1, 3, \"niz\", (23, 24)]\n",
    "b = a  # spremenljivka b se zgolj sklicuje na vsebino spremenljivke a\n",
    "b[1] = \"cudno\"  # spremenimo vrednost drugega elementa niza b\n",
    "print(b)\n",
    "print(a)"
   ]
  },
  {
   "cell_type": "markdown",
   "metadata": {},
   "source": [
    "Iz zgornjega primera vidimo, da spremenljivki `a` in `b` naslavljata isti seznam, saj prireditveni operator ni ustvaril kopije. V kolikor zelimo ustvariti kopijo spremenljivke a lahko uporabimo clansko funkcijo `copy` ali konstruktor `list`.\n"
   ]
  },
  {
   "cell_type": "code",
   "execution_count": null,
   "metadata": {},
   "outputs": [],
   "source": [
    "a = [1, 3, \"niz\", (23, 24)]\n",
    "b = a.copy()  # kopiramo s clansko funkcijo copy\n",
    "c = list(a)  # kopiramo s konstruktorjem list\n",
    "b[1] = 100\n",
    "c[1] = 200\n",
    "print(a)  # vrednost spremenljivke a je nespremenjena\n",
    "print(b)"
   ]
  },
  {
   "cell_type": "code",
   "execution_count": null,
   "metadata": {},
   "outputs": [],
   "source": [
    "b  # vrednost spremenljivke b se spremeni\n"
   ]
  },
  {
   "cell_type": "code",
   "execution_count": null,
   "metadata": {},
   "outputs": [],
   "source": [
    "c  # vrednost spremenljivke c se spremeni\n"
   ]
  },
  {
   "cell_type": "markdown",
   "metadata": {},
   "source": [
    "## Oblikovanje znakovnih nizov\n",
    "\n",
    "Z znakovnimi nizi lahko oblikujemo naslovne vrstice grafov in slik, dodajamo oznake koordinatnim osem, oblikujemo berljiva uporabniska sporocila, ipd. Kot je to bilo ze nakazano tekom pregleda vgrajenih podatkovnih tipov, uporabljamo za delo z znakovnimi nizi razred `str`. Razred vsebuje stevilne koristne clanske funkcije in operatorje, med katerimi si bomo na kratko ogledali le najpomembnejse, in sicer operator `+` ter metodi `split` in `replace`. Na kratko se bomo ustavili tudi pri uporabi `f-string`, ki omogoca napredno gradnjo kompleksnih znakovnih nizov iz prakticno poljubnih Python objektov. Znakovne nize enostavno spajamo z operatorjem `+`.\n"
   ]
  },
  {
   "cell_type": "code",
   "execution_count": null,
   "metadata": {},
   "outputs": [],
   "source": [
    "\"ena + \" + \"dva = \" + str(3)\n",
    "\n"
   ]
  },
  {
   "cell_type": "code",
   "execution_count": null,
   "metadata": {},
   "outputs": [],
   "source": [
    "niz = \"To je niz.\"\n",
    "niz = niz + \" Niz se nadaljuje.\" \n",
    "print(niz)\n",
    "niz1 = \"To je niz.\"\n",
    "niz1 += \" Niz se nadaljuje.\"\n",
    "print(niz1)"
   ]
  },
  {
   "cell_type": "code",
   "execution_count": null,
   "metadata": {},
   "outputs": [],
   "source": [
    "a = 1\n",
    "c = \"3\"\n",
    "f\"ena: {a}, dva: {2} , tri: {c}\"\n"
   ]
  },
  {
   "cell_type": "code",
   "execution_count": null,
   "metadata": {},
   "outputs": [],
   "source": [
    "f\"Spremenljivka a = {a} pripada razredu {type (a) .__name__}.\"\n"
   ]
  },
  {
   "cell_type": "markdown",
   "metadata": {},
   "source": [
    "S posebno kontrolno sekvenco znakov znotraj bloka `{}` lahko podrobneje dolocimo nacin izpisa. Kontrolno sekvenco je vedno potrebno priceti z dvopicjem, in sicer kot `{:}`. Pri izpisu stevil lahko na ta nacin dolocimo tip izpisa:\n",
    "\n",
    "- `f` za zapis s plavajoco vejico,\n",
    "- `e` za eksponentni zapis,\n",
    "- `d` za celostevilski zapis,\n",
    "- `b` za binarni zapis,\n",
    "- `o` za osmiski zapis,\n",
    "- `x` za sestnajstiski zapis.\n"
   ]
  },
  {
   "cell_type": "code",
   "execution_count": null,
   "metadata": {},
   "outputs": [],
   "source": [
    "pi = 3.14159265359\n",
    "c = 12\n",
    "f\"Eno decimalno mesto, eksponentni zapis: {pi:.1e}, tri decimalna mesta {pi:.3f}, celostevilski zapis {c:d}, binarni zapis {c:b}, sestnajtiski zapis {c:x}\"\n"
   ]
  },
  {
   "cell_type": "code",
   "execution_count": null,
   "metadata": {},
   "outputs": [],
   "source": [
    "f\"Deset mest, od tega tri za decimalno vejico: {pi:10.3f}\"\n"
   ]
  },
  {
   "cell_type": "markdown",
   "metadata": {},
   "source": [
    "Poleg clanske funkcije `f-string` sta med uporabnejsima tudi `split` in `replace`. S `split` lahko znakovni niz razbijemo na vec podnizov, ki jih locuje izbrani znak ali zaporedje znakov.\n"
   ]
  },
  {
   "cell_type": "code",
   "execution_count": null,
   "metadata": {},
   "outputs": [],
   "source": [
    "niz = \"To je prvi. To je drugi\"\n",
    "niz.split(\" \")\n"
   ]
  },
  {
   "cell_type": "code",
   "execution_count": null,
   "metadata": {},
   "outputs": [],
   "source": [
    "niz.split(\". \")\n"
   ]
  },
  {
   "cell_type": "code",
   "execution_count": null,
   "metadata": {},
   "outputs": [],
   "source": [
    "niz = \"1 2 3 111\"\n",
    "niz.replace(\" \", \"-\").replace(\"111\", \"444\")\n"
   ]
  },
  {
   "cell_type": "markdown",
   "metadata": {},
   "source": [
    "## Odlocitveni stavek (_IF statement_)\n",
    "\n",
    "Odlocitveni stavek nam omogoca pogojno izvajanje programske kode. V najsplosnejsi obliki je struktura odlocitvenega stavka sledeca: `if ... elif ... else`. Velja si zapomniti, da se\n",
    "odlocitveni stavek izvaja v zapisanem vrstnem redu. Izvajanje se zakljuci takoj po tem, ko se izvede programska koda pod prvim izpolnjenim pogojem. Posamezne oblike odlocitvenega\n",
    "stavka bomo podrobneje obravnavali skozi primere. V najenostavnejsi obliki odlocitveni stavek vsebuje zgolj if stavek, programska koda, ki se izvede, ko je pogoj izpolnjen, pa je zamaknjena za sirino enega tabulatorja.\n"
   ]
  },
  {
   "cell_type": "code",
   "execution_count": null,
   "metadata": {},
   "outputs": [],
   "source": [
    "a = 1\n",
    "if a > 0:\n",
    "    print(f\"{a} > 0\")\n"
   ]
  },
  {
   "cell_type": "code",
   "execution_count": null,
   "metadata": {},
   "outputs": [],
   "source": [
    "a = -1\n",
    "if a > 0:\n",
    "    print(f\"{a} > 0\")\n",
    "else:\n",
    "    print(f\"{a} <= 0\")\n"
   ]
  },
  {
   "cell_type": "markdown",
   "metadata": {},
   "source": [
    "V najsplosnejsi obliki odlocitveni stavek vsebuje `if` in `else` stavek ter enega ali vec vmesnih `elif` stavkov. Pri izvajanju kode se najprej preveri veljavnost pogoja `if` dela stavka. Ce je pogoj izpolnjen se izvede zamaknjena programska koda, ki sledi `if` delu stavku, sicer se preveri pogoj naslednjega `elif` stavka. V kolikor nobeden izmed pogojev ni izpolnjen se izvede zamaknjena programska koda, ki sledi `else` delu stavka.\n"
   ]
  },
  {
   "cell_type": "code",
   "execution_count": null,
   "metadata": {},
   "outputs": [],
   "source": [
    "i = 3\n",
    "if i == 0:\n",
    "    print(f\"0 == {i}\")\n",
    "elif i == 1:\n",
    "    print(f\"1 == {i}\")\n",
    "elif i == 2:\n",
    "    print(f\"2 == {i}\")\n",
    "else:\n",
    "    print(\"neveljavna vrednost: \" + str(i))\n"
   ]
  },
  {
   "cell_type": "markdown",
   "metadata": {},
   "source": [
    "Prazni odlocitveni stavki niso dovoljeni. V kolikor za doloceni del odlocitvenega stavka ni potrebno izvesti nobenega ukaza, lahko uporabimo rezervirano besedo `pass`, ki je ukaz brez vsebine. Z njim lahko poudarimo, da v dolocenih primerih ni potrebno izvesti nobene aktivnosti.\n"
   ]
  },
  {
   "cell_type": "code",
   "execution_count": null,
   "metadata": {},
   "outputs": [],
   "source": [
    "a = 2\n",
    "if a == 0:\n",
    "    a += 1\n",
    "else:\n",
    "    pass  # Ko je vrednost spremenljivke\n",
    "a"
   ]
  },
  {
   "cell_type": "markdown",
   "metadata": {},
   "source": [
    "V odlocitvenem stavku lahko zdruzimo tudi vec pogojev. Pri tem si pogosto pomagamo z logicnimi operatorji, in sicer `and` (logicni in), `or` (logicni ali) ter `not` (logicni ne).\n"
   ]
  },
  {
   "cell_type": "code",
   "execution_count": null,
   "metadata": {},
   "outputs": [],
   "source": [
    "a = 10\n",
    "niz = \"ime\"\n",
    "if a > 0 and niz == \"niz\":\n",
    "    print(\n",
    "        \"Vrednost spremenljivke a je vecja od 0 in vsebina spremenljivke niz je enaka 'ime'.\"\n",
    "    )\n",
    "if a > 0 and (niz == \"slika\" or niz == \"ime\"):\n",
    "    print(\n",
    "        \"Vrednost spremenljivke a je vecja od 0 in vrednost spremenljivke niz je enaka 'slika' ali 'element'.\"\n",
    "    )\n"
   ]
  },
  {
   "cell_type": "markdown",
   "metadata": {},
   "source": [
    "V pogojnih stavkih lahko na preprost nacin preverimo, ali seznam vsebuje doloceno vrednost ter ali slovar vsebuje doloceni kljuc. Za ta namen uporabimo rezervirano besedo `in`.\n"
   ]
  },
  {
   "cell_type": "code",
   "execution_count": null,
   "metadata": {},
   "outputs": [],
   "source": [
    "seznam = [1, 2, 3, {\"a\": 100}, \"nekaj\"]\n",
    "vrednost = \"nekaj\"\n",
    "if vrednost in seznam:\n",
    "    print(f\"Vrednost {vrednost} je v seznamu {seznam}.\")\n",
    "else:\n",
    "    print(f\"Vrednosti ni v seznamu {seznam}.\")\n"
   ]
  },
  {
   "cell_type": "code",
   "execution_count": null,
   "metadata": {},
   "outputs": [],
   "source": [
    "slovar = {\"a\": 100, \"b\": 100}\n",
    "kljuc = \"c\"\n",
    "if kljuc in slovar:\n",
    "    print(f\"Kljuc {kljuc} je v slovarju {slovar}.\")\n",
    "else:\n",
    "    print(f\"Kljuca {kljuc} ni v slovarju {slovar}.\")\n"
   ]
  },
  {
   "cell_type": "markdown",
   "metadata": {},
   "source": [
    "Rezervirano besedo `in` lahko uporabimo tudi izven odlocitvenih stavkov.\n"
   ]
  },
  {
   "cell_type": "code",
   "execution_count": null,
   "metadata": {},
   "outputs": [],
   "source": [
    "11 in [1, 2, \"niz\", 11]\n"
   ]
  },
  {
   "cell_type": "markdown",
   "metadata": {},
   "source": [
    "Ko preverjamo, ali spremenljivka pripada podatkovnemu tipu (npr. `None`), vedno uporabimo identifikator, saj obstaja zgolj en primerek razreda podatkovnega tipa.\n"
   ]
  },
  {
   "cell_type": "code",
   "execution_count": null,
   "metadata": {},
   "outputs": [],
   "source": [
    "if a is None:\n",
    "    print(\"Vrednost spremenljivke je None.\")\n",
    "else:\n",
    "    print(\"Vrednost spremenljivke ni None.\")\n"
   ]
  },
  {
   "cell_type": "markdown",
   "metadata": {},
   "source": [
    "## Zanke\n",
    "\n",
    "Ko izvajamo operacije nad posameznimi elementi nizov ali slovarjev, pogosto uporabljamo `for` ali `while` zanke. V splosnem se lahko s `for` zanko sprehodimo cez elemente poljubnih Python objektov z definirano metodo `__iter__`. Pri tem je prirocna vgrajena funkcija `range`, ki ustvari aritmeticno zaporedje stevil s privzetim korakom 1 in zacetno vrednostjo 0. Zacetno in koncno vrednost ter korak v splosnem podamo kot `range(zacetek, konec, korak)`. Najprej si oglejmo nekaj preprostih primerov, ki ilustrirajo uporabo funkcije `range`.\n"
   ]
  },
  {
   "cell_type": "code",
   "execution_count": null,
   "metadata": {},
   "outputs": [],
   "source": [
    "range(6)  # zaporedje s pricetkom 0, koncem 5 in korakom 1\n"
   ]
  },
  {
   "cell_type": "code",
   "execution_count": null,
   "metadata": {},
   "outputs": [],
   "source": [
    "list(range(6))  # zaporedje s pricetkom 0, koncem 5 in korakom 1\n"
   ]
  },
  {
   "cell_type": "code",
   "execution_count": null,
   "metadata": {},
   "outputs": [],
   "source": [
    "list(range(2, 6))  # zaporedje s pricetkom 2, koncem 5 in korakom 1\n"
   ]
  },
  {
   "cell_type": "code",
   "execution_count": null,
   "metadata": {},
   "outputs": [],
   "source": [
    "list(range(1, 6, 2))  # zaporedje s pricetkom 1, koncem 5 in korakom 2\n"
   ]
  },
  {
   "cell_type": "markdown",
   "metadata": {},
   "source": [
    "V vsaki iteraciji `for` zanke oblike `for` element in objekt: koda se izvede zamaknjeni del programske kode, ki sledi dvopicju. Pri tem se spremenljivka element postopoma sprehodi po vseh elementih danega objekta.\n"
   ]
  },
  {
   "cell_type": "code",
   "execution_count": null,
   "metadata": {},
   "outputs": [],
   "source": [
    "seznam = [10, 20, 30, 40, 50]\n",
    "n = len(seznam)\n",
    "vsota = 0.0\n",
    "for i in range(n):  # i se sprehodi od 0 do n - 1\n",
    "    print(\"i =\", i)\n",
    "    print(seznam[i])\n",
    "print(vsota)"
   ]
  },
  {
   "cell_type": "markdown",
   "metadata": {},
   "source": [
    "Enak ucinek lahko dosezemo tudi brez uporabe funkcije `range`, tako da v `for` zanki neposredno uporabimo seznam.\n"
   ]
  },
  {
   "cell_type": "code",
   "execution_count": null,
   "metadata": {},
   "outputs": [],
   "source": [
    "seznam = [10, 20, 30, 40, 50]\n",
    "vsota = 0.0\n",
    "for element in seznam:  # element se sprehodi po elementih seznama\n",
    "    print(\"element =\", element)\n",
    "    vsota += element\n",
    "print(vsota)"
   ]
  },
  {
   "cell_type": "markdown",
   "metadata": {},
   "source": [
    "Na podoben nacin lahko v `for` zanki uporabimo tudi slovar. Pri tem se sprehodimo po vseh kljucih slovarja.\n"
   ]
  },
  {
   "cell_type": "code",
   "execution_count": null,
   "metadata": {},
   "outputs": [],
   "source": [
    "slovar = {\"a\": 1, \"b\": 10, \"c\": 100}\n",
    "for kljuc in slovar:\n",
    "    print(f\"Kljucu {kljuc} pripada vrednost {slovar [ kljuc ]}.\")\n"
   ]
  },
  {
   "cell_type": "markdown",
   "metadata": {},
   "source": [
    "Ko znotraj zanke potrebujemo vrednost elementa in njegov naslov v nizu, lahko uporabimo vgrajeno funkcijo `zip`.\n"
   ]
  },
  {
   "cell_type": "code",
   "execution_count": null,
   "metadata": {},
   "outputs": [],
   "source": [
    "seznam = [10, 20, 30, 40, 50]\n",
    "n = len(seznam)\n",
    "vsota = 0.0\n",
    "for element, naslov in zip(seznam, range(n)):\n",
    "    vsota += element\n",
    "    print(element, naslov, vsota)\n",
    "print(vsota)"
   ]
  },
  {
   "cell_type": "markdown",
   "metadata": {},
   "source": [
    "V naslednjem primeru si bomo podrobneje ogledali se zanko `while`. Zanka ima obliko `while` pogoj: koda in se zaporedoma izvaja dokler je izpolnjen pogoj, ki sledi rezervirani besedi `while`.\n"
   ]
  },
  {
   "cell_type": "code",
   "execution_count": null,
   "metadata": {},
   "outputs": [],
   "source": [
    "vsota = 0.0\n",
    "i = 0\n",
    "while i < 10:  # i se sprehodi od 0 do 9\n",
    "    vsota += i\n",
    "    i += 1\n",
    "print(vsota)"
   ]
  },
  {
   "cell_type": "markdown",
   "metadata": {},
   "source": [
    "Izvajanje `for` ali `while` zank lahko predcasno prekinemo z ukazom `break`, trenutni cikel pa opustimo z ukazom `continue`.\n"
   ]
  },
  {
   "cell_type": "code",
   "execution_count": null,
   "metadata": {},
   "outputs": [],
   "source": [
    "for i in range(6):\n",
    "    if i == 2:\n",
    "        print(i, \"continue\")\n",
    "        continue\n",
    "    if i > 3:\n",
    "        print(i, \"break\")\n",
    "        break\n",
    "    print(i, \"zanka\")\n"
   ]
  },
  {
   "cell_type": "markdown",
   "metadata": {},
   "source": [
    "## Delo z moduli\n",
    "\n",
    "Kot smo ze omenili, so funkcije in razredi v programskem jeziku Python definirani v datotekah s koncnico `py`, ki jim pravimo moduli. Vsak Python modul je potrebno pred prvo uporabo uvoziti. Za ta namen uporabimo rezervirano besedo `import`. Pri uvazanju modulov nikoli ne navajamo `py` koncnice. Uvozimo lahko le module (datoteke), ki se nahajajo v mapah, vsebovanih v trenutni poti (ang. `path`) tolmaca. Slednjo ne gre zamenjevati s potjo operacijskega sistema. Mape z moduli vgrajenih knjiznic so ob zagonu tolmaca ze vsebovane v poti. Trenutno pot lahko izpisemo in dopolnimo s pomocjo spremenljivke `path` modula `sys`. Ce uporabljamo enega izmed operacijskih sistemov Microsoft Windows, je potrebno levo posevnico poti mape nadomestiti z dvema levima posevnicama ('c:\\\\moja\\\\mapa') ali pa levo posevnico nadomestiti z desno ('c:/moja/mapa').\n"
   ]
  },
  {
   "cell_type": "code",
   "execution_count": null,
   "metadata": {},
   "outputs": [],
   "source": [
    "import math\n",
    "\n",
    "math.sin(math.pi * 0.5)"
   ]
  },
  {
   "cell_type": "markdown",
   "metadata": {},
   "source": [
    "Modul lahko uvozimo s poljubnim (krajsim) imenom. V ta namen uporabimo sledeci ukaz: `import` modul `as` ime.\n"
   ]
  },
  {
   "cell_type": "code",
   "execution_count": null,
   "metadata": {},
   "outputs": [],
   "source": [
    "import numpy as np\n",
    "\n",
    "np.median([1, 1, 2, 3, 3, 4, 5, 6, 6, 9])"
   ]
  },
  {
   "cell_type": "markdown",
   "metadata": {},
   "source": [
    "## Funkcije\n",
    "\n",
    "Funkcije v programskem jeziku Python prepoznamo po rezervirani besedi `def`, s katero se pricne definicija funkcij. Sledi ime funkcije in seznam parametrov v oklepajih ter koncno dvopicje. Jedro funkcije je ustrezno zamaknjeno s stevilom presledkov, ki ustrezajo enemu tabulatorju, vrednosti pa lahko vrnemo z neobveznim koncnim `return` stavkom. Naj ze na tem mestu povemo, da locenega deklariranja funkcij, kot ga poznamo v programskih jezikih C in C++, v Pythonu ni. Funkcije lahko sprejmejo poljubno stevilo parametrov. Kot primer ustvarimo modul funkcije.py s preprosto funkcijo, ki vrne vsoto parametrov.\n"
   ]
  },
  {
   "cell_type": "code",
   "execution_count": null,
   "metadata": {},
   "outputs": [],
   "source": [
    "def vsota(a, b):\n",
    "    return a + b"
   ]
  },
  {
   "cell_type": "code",
   "execution_count": null,
   "metadata": {},
   "outputs": [],
   "source": [
    "vsota(5, 8)"
   ]
  },
  {
   "cell_type": "code",
   "execution_count": null,
   "metadata": {},
   "outputs": [],
   "source": [
    "def primer(a, b=0, c=10):\n",
    "    return (a + b) * c\n",
    "\n",
    "\n",
    "primer(10)  # a=10, b=0, c=10\n"
   ]
  },
  {
   "cell_type": "code",
   "execution_count": null,
   "metadata": {},
   "outputs": [],
   "source": [
    "primer(10, 2)  # a=10, b=2, c=10\n"
   ]
  },
  {
   "cell_type": "code",
   "execution_count": null,
   "metadata": {},
   "outputs": [],
   "source": [
    "primer(10, c=1)  # a=10, b=0, c=1\n"
   ]
  },
  {
   "cell_type": "code",
   "execution_count": null,
   "metadata": {},
   "outputs": [],
   "source": [
    "primer(b=2, c=1, a=0)  # a=0, b=2, c=1\n"
   ]
  },
  {
   "cell_type": "markdown",
   "metadata": {},
   "source": [
    "Ko stevilo in/ali imena vseh parametrov niso znana vnaprej, lahko uporabimo rezervirani spremenljivki `args` in/ali `kwargs`, ki sprejmeta nedefinirane pozicijske parametre in nedefinirane parametre, podane z imenom. Pri tem so pozicijsko podani parametri shranjeni v spremenljivki `args` v obliki nespremenljivega seznama, parametri, podani z imenom, pa v spremenljivki `kwargs` v obliki slovarja.\n"
   ]
  },
  {
   "cell_type": "code",
   "execution_count": null,
   "metadata": {},
   "outputs": [],
   "source": [
    "def splosna(a, b=0, c=10, *args, **kwargs):\n",
    "    print(f\"a={a}, b={b}, c={c}, args={args}, kwargs={kwargs}\")\n"
   ]
  },
  {
   "cell_type": "code",
   "execution_count": null,
   "metadata": {},
   "outputs": [],
   "source": [
    "splosna(1, 2, 3, 10, 12, g=14, f=15)\n"
   ]
  },
  {
   "cell_type": "code",
   "execution_count": null,
   "metadata": {},
   "outputs": [],
   "source": [
    "splosna(1, c=2, g=14, f=15)\n"
   ]
  },
  {
   "cell_type": "markdown",
   "metadata": {},
   "source": [
    "Pri klicu lahko pozicijske parametre funkcije podamo s seznamom, parametre z imenom pa s slovarjem. V tem primeru je potrebno pred seznamom uporabiti znak `*`, pred slovarjem pa znak `**`. Omenjena znaka razgradita seznam ali slovar na posamezne elemente.\n"
   ]
  },
  {
   "cell_type": "code",
   "execution_count": null,
   "metadata": {},
   "outputs": [],
   "source": [
    "a = (10, 20, 30, 40)\n",
    "b = {\"g\": 10, \"f\": 200}\n",
    "splosna(-1, *a, **b)\n"
   ]
  },
  {
   "cell_type": "code",
   "execution_count": null,
   "metadata": {},
   "outputs": [],
   "source": [
    "def primer2(a, b):\n",
    "    return a, b\n",
    "\n",
    "\n",
    "primer(10, 20)\n"
   ]
  },
  {
   "cell_type": "code",
   "execution_count": null,
   "metadata": {},
   "outputs": [],
   "source": [
    "x, y = primer2(10, 20)\n",
    "print(x, y)"
   ]
  },
  {
   "cell_type": "markdown",
   "metadata": {},
   "source": [
    "Funkcijo lahko definiramo tudi brez `return` stavka. V tem primeru funkcija samodejno vrne vrednost `None`.\n"
   ]
  },
  {
   "cell_type": "code",
   "execution_count": null,
   "metadata": {},
   "outputs": [],
   "source": [
    "def nevrne(a, b):\n",
    "    c = a + b\n",
    "\n",
    "\n",
    "print(nevrne(1, 2))"
   ]
  },
  {
   "cell_type": "markdown",
   "metadata": {},
   "source": [
    "## Vidljivost spremenljivk\n"
   ]
  },
  {
   "cell_type": "code",
   "execution_count": null,
   "metadata": {},
   "outputs": [],
   "source": [
    "import funkcije_uvod\n",
    "\n",
    "funkcije_uvod.test_sestevanje(3, 4)"
   ]
  },
  {
   "cell_type": "code",
   "execution_count": null,
   "metadata": {},
   "outputs": [],
   "source": [
    "from funkcije_uvod import test_sestevanje, globalna\n",
    "\n",
    "test_sestevanje(3, 4)"
   ]
  },
  {
   "cell_type": "code",
   "execution_count": null,
   "metadata": {},
   "outputs": [],
   "source": [
    "funkcije_uvod.c"
   ]
  },
  {
   "cell_type": "code",
   "execution_count": null,
   "metadata": {},
   "outputs": [],
   "source": [
    "funkcije_uvod.sestej(1, 2)\n"
   ]
  },
  {
   "cell_type": "code",
   "execution_count": null,
   "metadata": {},
   "outputs": [],
   "source": [
    "funkcije_uvod.c  # vrednost globalne spremenljivke c je nespremenjena\n"
   ]
  },
  {
   "cell_type": "code",
   "execution_count": null,
   "metadata": {},
   "outputs": [],
   "source": [
    "funkcije_uvod.mnozi(1, 2)\n"
   ]
  },
  {
   "cell_type": "code",
   "execution_count": null,
   "metadata": {},
   "outputs": [],
   "source": [
    "funkcije_uvod.c  # vrednost globalne spremenljivke c je nespremenjena\n"
   ]
  },
  {
   "cell_type": "code",
   "execution_count": null,
   "metadata": {},
   "outputs": [],
   "source": [
    "funkcije_uvod.globalna(100, 200)\n"
   ]
  },
  {
   "cell_type": "code",
   "execution_count": null,
   "metadata": {},
   "outputs": [],
   "source": [
    "funkcije_uvod.c  # vrednost globalne spremenljivke c se je spremenila\n"
   ]
  },
  {
   "cell_type": "markdown",
   "metadata": {},
   "source": [
    "Iz primera vidimo, da se vrednost globalne spremenljivke c spremeni zgolj po klicu funkcije `globalna`, ki omenjeno globalno spremenljivko najprej uvozi, nato pa ji priredi vrednost vsote parametrov. Pri preostalih dveh klicih funkcij `sestej` in `mnozi` se rezultat sestevanja oziroma mnozenja priredi lokalni spremenljivki, vrednost istoimenske globalne spremenljivke pa ostane nespremenjena. Pri prakticnem delu se poizkusamo izogibati uporabi globalnih spremenljivk in jih nadomestiti z ustrezno uporabo razredov, o katerih bomo vec povedali v naslednjem poglavju.\n"
   ]
  },
  {
   "cell_type": "code",
   "execution_count": null,
   "metadata": {},
   "outputs": [],
   "source": [
    "funkcije_uvod.a  # do vrednosti spremenljivke a ne moremo dostopati, saj se ob uvozu modula del programske kode pogojnega stavka if __name__ == `__main__`: ne izvede.\n"
   ]
  },
  {
   "cell_type": "markdown",
   "metadata": {},
   "source": [
    "V knjigi prof. dr. Mirana Bürmna, si lahko preberete se vec o delu z razredi, o shranjevanju in nalaganju podatkov s pomocjo Pythona, o upravljanju z napakmi in se vec.\n"
   ]
  },
  {
   "cell_type": "code",
   "execution_count": null,
   "metadata": {},
   "outputs": [],
   "source": []
  }
 ],
 "metadata": {
  "kernelspec": {
   "display_name": "Python 3.9.10 ('venv': venv)",
   "language": "python",
   "name": "python3"
  },
  "language_info": {
   "codemirror_mode": {
    "name": "ipython",
    "version": 3
   },
   "file_extension": ".py",
   "mimetype": "text/x-python",
   "name": "python",
   "nbconvert_exporter": "python",
   "pygments_lexer": "ipython3",
   "version": "3.9.10"
  },
  "orig_nbformat": 4,
  "vscode": {
   "interpreter": {
    "hash": "a50e64f46d8ffad4047ca005441e1ff5fc1e1bde4face27b7cbf7ddb40b6b683"
   }
  }
 },
 "nbformat": 4,
 "nbformat_minor": 2
}
